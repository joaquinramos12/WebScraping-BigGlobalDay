{
 "cells": [
  {
   "cell_type": "markdown",
   "id": "41534aba",
   "metadata": {},
   "source": [
    "## Web scraping"
   ]
  },
  {
   "cell_type": "code",
   "execution_count": null,
   "id": "72f8b0d7",
   "metadata": {},
   "outputs": [],
   "source": [
    "import requests\n",
    "from bs4 import BeautifulSoup\n",
    "\n",
    "# Realizar la solicitud GET a la página web\n",
    "url = 'https://ebird.org/region/world/regions?yr=BIGDAY_2023a&hsStats_sortBy=num_species&hsStats_o=desc'\n",
    "response = requests.get(url)\n",
    "\n",
    "# Crear el objeto BeautifulSoup para analizar el contenido HTML\n",
    "soup = BeautifulSoup(response.content, 'html.parser')\n",
    "\n",
    "# Encontrar los elementos que contienen los precios de los productos\n",
    "bi2 = soup.find_all('span', class_='Heading Heading--h5 u-margin-none')\n"
   ]
  },
  {
   "cell_type": "code",
   "execution_count": null,
   "id": "c798dceb",
   "metadata": {},
   "outputs": [],
   "source": [
    "top2=list()\n",
    "for i in bi2:\n",
    "    top2.append(i.text)\n",
    "    \n",
    "print(top2)"
   ]
  },
  {
   "cell_type": "code",
   "execution_count": null,
   "id": "2a31c026",
   "metadata": {},
   "outputs": [],
   "source": [
    "len(top2)"
   ]
  },
  {
   "cell_type": "code",
   "execution_count": null,
   "id": "f45fbc02",
   "metadata": {},
   "outputs": [],
   "source": [
    "# Realizar la solicitud GET a la página web\n",
    "url = 'https://ebird.org/region/world/regions?yr=BIGDAY_2023a&hsStats_sortBy=num_species&hsStats_o=desc'\n",
    "response = requests.get(url)\n",
    "\n",
    "# Crear el objeto BeautifulSoup para analizar el contenido HTML\n",
    "soup = BeautifulSoup(response.content, 'html.parser')\n",
    "\n",
    "# Encontrar los elementos que contienen los precios de los productos\n",
    "bi2_e = soup.find_all('td', class_='Table-cell Table-cell--statBar u-prm')\n",
    "\n"
   ]
  },
  {
   "cell_type": "code",
   "execution_count": null,
   "id": "72647884",
   "metadata": {},
   "outputs": [],
   "source": [
    "top2_e=list()\n",
    "for i in bi2_e:\n",
    "    top2_e.append(i.text)\n",
    "    "
   ]
  },
  {
   "cell_type": "code",
   "execution_count": null,
   "id": "f0dc5b64",
   "metadata": {},
   "outputs": [],
   "source": [
    "#limpiamos los textos incluidos\n",
    "top2_e\n",
    "caracteres_a_eliminar = '\\t'\n",
    "\n",
    "tp1 = [elemento.replace(caracteres_a_eliminar, '') for elemento in top2_e]\n",
    "\n",
    "\n",
    "caracteres_a_eliminar = '\\n'\n",
    "\n",
    "tp2 = [elemento.replace(caracteres_a_eliminar, '') for elemento in tp1] \n",
    "print(tp2)"
   ]
  },
  {
   "cell_type": "code",
   "execution_count": null,
   "id": "7ff5431d",
   "metadata": {},
   "outputs": [],
   "source": [
    "# Encontrar los elementos que contienen los precios de los productos\n",
    "bi2_p = soup.find_all('td', class_='Table-cell Table-cell--statBar u-prm u-showForMedium')\n"
   ]
  },
  {
   "cell_type": "code",
   "execution_count": null,
   "id": "56af1360",
   "metadata": {},
   "outputs": [],
   "source": [
    "top2_p=list()\n",
    "for i in bi2_p:\n",
    "    top2_p.append(i.text)\n",
    "#limpiamos los textos incluidos\n",
    "top2_p\n",
    "caracteres_a_eliminar = '\\t'\n",
    "\n",
    "tp1p = [elemento.replace(caracteres_a_eliminar, '') for elemento in top2_p]\n",
    "\n",
    "caracteres_a_eliminar = '\\n'\n",
    "\n",
    "tpp = [elemento.replace(caracteres_a_eliminar, '') for elemento in tp1p] \n",
    "\n",
    "caracteres_a_eliminar = ','\n",
    "\n",
    "\n",
    "tp2p = [elemento.replace(caracteres_a_eliminar, '') for elemento in tpp] \n",
    "print(tp2p)"
   ]
  },
  {
   "cell_type": "code",
   "execution_count": null,
   "id": "a08a9135",
   "metadata": {},
   "outputs": [],
   "source": [
    "import pandas as pd\n",
    "data = {\n",
    "    'Paises': top2,\n",
    "    'Especies': tp2,\n",
    "    'Listas': tp2p\n",
    "}\n",
    "\n",
    "df = pd.DataFrame(data)\n"
   ]
  },
  {
   "cell_type": "code",
   "execution_count": null,
   "id": "f05a7b1b",
   "metadata": {},
   "outputs": [],
   "source": [
    "df.info()"
   ]
  },
  {
   "cell_type": "code",
   "execution_count": null,
   "id": "538d7c70",
   "metadata": {},
   "outputs": [],
   "source": [
    "df"
   ]
  },
  {
   "cell_type": "code",
   "execution_count": null,
   "id": "d61da6c9",
   "metadata": {},
   "outputs": [],
   "source": [
    "# importar las librerias\n",
    "import pandas as pd\n",
    "import matplotlib.pyplot as plt\n",
    "import seaborn as sns\n",
    "sns.set()"
   ]
  },
  {
   "cell_type": "code",
   "execution_count": null,
   "id": "fdf35e60",
   "metadata": {},
   "outputs": [],
   "source": [
    "# visión cualitativa de los datos\n",
    "from qgrid import show_grid\n",
    "show_grid(df)"
   ]
  },
  {
   "cell_type": "code",
   "execution_count": null,
   "id": "df995e39",
   "metadata": {},
   "outputs": [],
   "source": [
    "from funpymodeling.exploratory import status\n",
    "\n",
    "status(df)"
   ]
  },
  {
   "cell_type": "code",
   "execution_count": null,
   "id": "a4c2832e",
   "metadata": {},
   "outputs": [],
   "source": [
    "df_original=df.copy()"
   ]
  },
  {
   "cell_type": "code",
   "execution_count": null,
   "id": "5a61cfce",
   "metadata": {},
   "outputs": [],
   "source": [
    "#convertimos\n",
    "df['Especies']=df['Especies'].astype(float)\n",
    "df['Listas']=df['Listas'].astype(float)\n",
    "\n"
   ]
  },
  {
   "cell_type": "code",
   "execution_count": null,
   "id": "a6000144",
   "metadata": {},
   "outputs": [],
   "source": [
    "status(df)"
   ]
  },
  {
   "cell_type": "markdown",
   "id": "d69a7e98",
   "metadata": {},
   "source": [
    "# Migracion de excel(csv) a python"
   ]
  },
  {
   "cell_type": "code",
   "execution_count": null,
   "id": "69d12916",
   "metadata": {},
   "outputs": [],
   "source": [
    "#Creacion de un archivo csv\n",
    "df.to_csv('Paises_bgd.csv', index=False)"
   ]
  },
  {
   "cell_type": "code",
   "execution_count": null,
   "id": "1099a27b",
   "metadata": {},
   "outputs": [],
   "source": [
    "df_1=pd.read_csv('Paises_bgd.csv')"
   ]
  },
  {
   "cell_type": "code",
   "execution_count": null,
   "id": "941659cd",
   "metadata": {},
   "outputs": [],
   "source": [
    "df_1"
   ]
  },
  {
   "cell_type": "code",
   "execution_count": null,
   "id": "e32b310b",
   "metadata": {},
   "outputs": [],
   "source": [
    "df_1.info()"
   ]
  },
  {
   "cell_type": "markdown",
   "id": "1685dce2",
   "metadata": {},
   "source": [
    "## app"
   ]
  },
  {
   "cell_type": "code",
   "execution_count": null,
   "id": "7dc02da1",
   "metadata": {},
   "outputs": [],
   "source": [
    "#ERROR de prueba es posible no funcionar\n",
    "\n",
    "import dash\n",
    "from dash import dcc as dcc\n",
    "from dash import html as html\n",
    "import plotly.express as px\n",
    "import pandas as pd\n",
    "import plotly.express as px\n",
    "\n",
    "# Leer el archivo CSV y crear el DataFrame\n",
    "df_1= pd.read_csv('Paises_bgd.csv')\n",
    "\n",
    "# Crear la aplicación Dash\n",
    "app = dash.Dash(__name__)\n",
    "\n",
    "# Definir el layout del dashboard\n",
    "app.layout = html.Div([\n",
    "    html.H1('Dashboard de Datos'),\n",
    "    dcc.Graph(\n",
    "        id='grafico-1',\n",
    "        figure=px.bar(df_1, x='Paises', y='Especies', title='Gráfico 1')\n",
    "    ),\n",
    "    dcc.Graph(\n",
    "        id='grafico-2',\n",
    "        figure=px.bar(df_1, x='Paises', y='Listas', title='Gráfico 2')\n",
    "    ),\n",
    "    # Agrega más gráficos según tus necesidades\n",
    "])\n",
    "\n",
    "# Iniciar el servidor de Dash\n",
    "if __name__ == '__main__':\n",
    "    app.run_server(debug=True)\n"
   ]
  },
  {
   "cell_type": "code",
   "execution_count": null,
   "id": "a4d09c6c",
   "metadata": {},
   "outputs": [],
   "source": []
  },
  {
   "cell_type": "markdown",
   "id": "07f80948",
   "metadata": {},
   "source": [
    "# Graficos juntos"
   ]
  },
  {
   "cell_type": "code",
   "execution_count": null,
   "id": "01ef3a6b",
   "metadata": {},
   "outputs": [],
   "source": [
    "import pandas as pd\n",
    "import plotly.graph_objects as go\n",
    "import plotly.io as pio\n",
    "\n",
    "# Crear un DataFrame de ejemplo\n",
    "data = {\n",
    "    'Paises': top2,\n",
    "    'Especies': tp2,\n",
    "    'Listas': tp2p\n",
    "}\n",
    "df = pd.DataFrame(data)\n",
    "\n",
    "# Crear visualizaciones interactivas utilizando Plotly\n",
    "fig = go.Figure()\n",
    "fig.add_trace(go.Bar(name='Población', x=df['Paises'], y=df['Especies']))\n",
    "fig.add_trace(go.Bar(name='listas', x=df['Paises'], y=df['Listas']))\n",
    "\n",
    "fig.update_layout(\n",
    "    title='Datos de la Big Global day',\n",
    "    xaxis_title='Paises',\n",
    "    yaxis_title='Valor',\n",
    "    barmode='stack'\n",
    ")\n",
    "\n",
    "# Guardar el dashboard en un archivo HTML\n",
    "pio.write_html(fig, file='dashboard.html', auto_open=True)\n"
   ]
  },
  {
   "cell_type": "markdown",
   "id": "cebe1cd3",
   "metadata": {},
   "source": [
    "# Graficos separados"
   ]
  },
  {
   "cell_type": "code",
   "execution_count": null,
   "id": "1c4167b4",
   "metadata": {},
   "outputs": [],
   "source": [
    "import pandas as pd\n",
    "import plotly.graph_objects as go\n",
    "from plotly.subplots import make_subplots\n",
    "from plotly.io import write_html\n",
    "from sklearn.preprocessing import MinMaxScaler\n",
    "\n",
    "# Crear un DataFrame de ejemplo\n",
    "data = {\n",
    "    'Paises': top2,\n",
    "    'Especies': tp2,\n",
    "    'Listas': tp2p\n",
    "}\n",
    "df = pd.DataFrame(data)\n",
    "\n",
    "# Normalizar los valores en la columna 'Especies'\n",
    "scaler = MinMaxScaler()\n",
    "df['Especies'] = scaler.fit_transform(df['Especies'].values.reshape(-1, 1))\n",
    "\n",
    "# Crear subplots en una sola figura\n",
    "fig = make_subplots(rows=1, cols=len(df.columns)-1, subplot_titles=df.columns[1:])\n",
    "\n",
    "# Agregar las gráficas a los subplots\n",
    "for i, column in enumerate(df.columns[1:], start=1):\n",
    "    fig.add_trace(go.Bar(x=df['Paises'], y=df[column]), row=1, col=i)\n",
    "\n",
    "    # Configurar título y etiquetas de los ejes\n",
    "    fig.update_xaxes(title_text='Paises', row=1, col=i)\n",
    "    fig.update_yaxes(title_text='Valor', row=1, col=i)\n",
    "\n",
    "    # Ajustar el rango del eje y\n",
    "    max_value = float(df[column].max())\n",
    "    fig.update_yaxes(range=[0, max_value * 1.1], row=1, col=i)\n",
    "\n",
    "# Configurar el título del dashboard\n",
    "fig.update_layout(title='Datos de la Big Global day - Dashboard')\n",
    "\n",
    "# Guardar el dashboard en un archivo HTML\n",
    "write_html(fig, file='dashboard.html', auto_open=True)\n"
   ]
  },
  {
   "cell_type": "code",
   "execution_count": null,
   "id": "4966a717",
   "metadata": {},
   "outputs": [],
   "source": []
  }
 ],
 "metadata": {
  "kernelspec": {
   "display_name": "Python 3 (ipykernel)",
   "language": "python",
   "name": "python3"
  },
  "language_info": {
   "codemirror_mode": {
    "name": "ipython",
    "version": 3
   },
   "file_extension": ".py",
   "mimetype": "text/x-python",
   "name": "python",
   "nbconvert_exporter": "python",
   "pygments_lexer": "ipython3",
   "version": "3.10.11"
  }
 },
 "nbformat": 4,
 "nbformat_minor": 5
}
